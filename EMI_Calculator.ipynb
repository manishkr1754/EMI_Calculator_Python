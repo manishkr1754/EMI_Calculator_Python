{
 "cells": [
  {
   "cell_type": "markdown",
   "id": "6a6d7898",
   "metadata": {},
   "source": [
    "\n",
    "---\n",
    "\n",
    "\n",
    "# EMI Calculator\n",
    "\n",
    "\n",
    "---\n"
   ]
  },
  {
   "cell_type": "markdown",
   "id": "4028101c",
   "metadata": {},
   "source": [
    "**About EMI**"
   ]
  },
  {
   "cell_type": "markdown",
   "id": "3612f859",
   "metadata": {},
   "source": [
    "We all have come across the term EMI in everyday life. While buying any product, we get an option of the EMI Payment method. The full form of EMI is **Equated Monthly Installment**. Through this, one must pay a specific sum to the seller on a fixed date each month with a fixed interest rate. EMI calculator helps calculate the amount with its interest rate that a buyer needs to pay to the seller.\n",
    "\n",
    " EMI Calculator is used to calculate home loans, car loans, bike loans, education loans EMI. In this assignment, you make you own EMI Calculator."
   ]
  },
  {
   "cell_type": "markdown",
   "id": "e1c1c26a",
   "metadata": {},
   "source": [
    "**Factors affecting EMI**\n",
    "\n",
    "EMI of a loan have three major factors on which it depends:\n",
    " \n",
    "* **Loan Amount:** This stands for the total amount or the principal amount that the individual has borrowed.\n",
    "* **Interest Rate:** It is a rate at which the interest is charged on the amount borrowed.\n",
    "* **Tenure of the Loan:** It is an agreed loan repayment time frame between the borrower and the lender."
   ]
  },
  {
   "cell_type": "markdown",
   "id": "a73c3a2f",
   "metadata": {},
   "source": [
    "**Formula**\n",
    "\n",
    "E = P * r  * ( (1+r)^n) / ( (( 1 + r )^n) - 1)\n",
    "\n",
    " Where, E = EMI, P = Principal amount, r= rate of interest and n = Tenure in months."
   ]
  },
  {
   "cell_type": "markdown",
   "id": "c9cc4a39",
   "metadata": {},
   "source": [
    "---\n",
    "\n",
    "## Problem Statement\n",
    "\n",
    "---"
   ]
  },
  {
   "cell_type": "markdown",
   "id": "5abebff0",
   "metadata": {},
   "source": [
    "1.    Let’s calculate the Home Loan EMI now using Python code. Principal Amount 50Lakhs, Rate of interest 8%, and Loan repayment tenure is 15 years. Find the EMI to be paid?\n",
    " \n",
    "2.    If the interest rate increases to 10%, and you cannot pay more than 30,000 as EMI, find the maximum amount of Loan you can take/afford for the same period?\n",
    "\n",
    "3.    For the Que 1. what is the total interest paid by you year-wise (from the 1st year to the 15th year). Also, what is the total cumulative interest paid by you in 15 years?\n",
    " \n",
    "4.    For the Que 1., in how many months would you have paid atleast 50% of the Principal amount."
   ]
  },
  {
   "cell_type": "markdown",
   "id": "41187f2a",
   "metadata": {},
   "source": [
    "---\n",
    "\n",
    "## Solutions\n",
    "\n",
    "---"
   ]
  },
  {
   "cell_type": "code",
   "execution_count": 1,
   "id": "474cd1f0",
   "metadata": {},
   "outputs": [],
   "source": [
    "import math"
   ]
  },
  {
   "cell_type": "markdown",
   "id": "2b38dc7a",
   "metadata": {},
   "source": [
    "**1.    Let’s calculate the Home Loan EMI now using Python code. Principal Amount 50Lakhs, Rate of interest 8%, and Loan repayment tenure is 15 years. Find the EMI to be paid?**"
   ]
  },
  {
   "cell_type": "code",
   "execution_count": 2,
   "id": "a61b3a63",
   "metadata": {},
   "outputs": [],
   "source": [
    "# Function to calculate EMI\n",
    "\n",
    "def calc_emi(p, r, n):\n",
    "  r = r / (12 * 100) # monthly interest rate\n",
    "  n = n * 12 # number of months\n",
    "  emi = p * r * (1 + r)**n / (((1 + r)**n) - 1)\n",
    "  return emi"
   ]
  },
  {
   "cell_type": "code",
   "execution_count": 3,
   "id": "a76b138d",
   "metadata": {},
   "outputs": [
    {
     "name": "stdout",
     "output_type": "stream",
     "text": [
      "EMI for principal amount 50 lakhs, interest rate 8%, and loan repayment tenure 15 years: Rs. 47782.60421651782\n"
     ]
    }
   ],
   "source": [
    "# Calculate EMI for principal amount 50 lakhs, interest rate 8%, and loan repayment tenure 15 years\n",
    "\n",
    "p = 5000000\n",
    "r = 8\n",
    "n = 15\n",
    "\n",
    "emi = calc_emi(p, r, n)\n",
    "print(\"EMI for principal amount 50 lakhs, interest rate 8%, and loan repayment tenure 15 years:\", \"Rs.\" , emi)"
   ]
  },
  {
   "cell_type": "markdown",
   "id": "917167e4",
   "metadata": {},
   "source": [
    "---\n",
    "\n",
    "**Ans. EMI for principal amount 50 lakhs, interest rate 8%, and loan repayment tenure 15 years:** Rs. 47782.60\n",
    "\n",
    "\n",
    "---\n"
   ]
  },
  {
   "cell_type": "markdown",
   "id": "b795aa54",
   "metadata": {},
   "source": [
    "**2.    If the interest rate increases to 10%, and you cannot pay more than 30,000 as EMI, find the maximum amount of Loan you can take/afford for the same period?**"
   ]
  },
  {
   "cell_type": "code",
   "execution_count": 4,
   "id": "ef53deff",
   "metadata": {},
   "outputs": [],
   "source": [
    "#function to calculate maximum loan amount\n",
    "\n",
    "def principal(emi, r, n):\n",
    "    r = r / (12 * 100) # monthly interest rate\n",
    "    n = n * 12 # number of months\n",
    "    loan_amount = (emi*(((1 + r)**n) - 1))/(r * (1 + r)**n)\n",
    "    return loan_amount"
   ]
  },
  {
   "cell_type": "code",
   "execution_count": 5,
   "id": "c6045ff8",
   "metadata": {},
   "outputs": [
    {
     "name": "stdout",
     "output_type": "stream",
     "text": [
      "Maximum loan amount for EMI of 30,000, interest rate 10%, and loan repayment tenure 15 years: Rs. 2791723.164689835\n"
     ]
    }
   ],
   "source": [
    "# Calculate maximum loan amount for emi-30,000, interest rate 8%, and loan repayment tenure 15 years\n",
    "\n",
    "emi=30000\n",
    "r=10\n",
    "n=15\n",
    "\n",
    "loan_amount = principal(emi, r, n)\n",
    "print(\"Maximum loan amount for EMI of 30,000, interest rate 10%, and loan repayment tenure 15 years:\", \"Rs.\", loan_amount)"
   ]
  },
  {
   "cell_type": "markdown",
   "id": "2d785c64",
   "metadata": {},
   "source": [
    "---\n",
    "\n",
    "**Ans. Maximum loan amount for EMI of 30,000, interest rate 10%, and loan repayment tenure 15 years:** Rs. 2791723.16\n",
    "\n",
    "    \n",
    "\n",
    "---\n"
   ]
  },
  {
   "cell_type": "markdown",
   "id": "d894058b",
   "metadata": {},
   "source": [
    "**3.    For the Que 1. what is the total interest paid by you year-wise (from the 1st year to the 15th year). Also, what is the total cumulative interest paid by you in 15 years?**"
   ]
  },
  {
   "cell_type": "code",
   "execution_count": 6,
   "id": "36eb5c01",
   "metadata": {},
   "outputs": [],
   "source": [
    "# Function to calculate year-wise interest paid\n",
    "\n",
    "def calc_yearwise_interest(p, r, n, emi):\n",
    "  yearwise_interest = []\n",
    "  total_interest = 0\n",
    "  for i in range(n*12):\n",
    "    interest = p * r / (12 * 100)\n",
    "    total_interest += interest\n",
    "    yearwise_interest.append(interest)\n",
    "    p -= emi - interest\n",
    "  return yearwise_interest"
   ]
  },
  {
   "cell_type": "code",
   "execution_count": 7,
   "id": "3330c3af",
   "metadata": {},
   "outputs": [
    {
     "name": "stdout",
     "output_type": "stream",
     "text": [
      "Year-wise interest paid for principal amount 50 lakhs, interest rate 8%, and loan repayment tenure 15 years: [33333.333333333336, 33237.00486077877, 33140.03419840718, 33042.41706495311, 32944.149150609344, 32845.22611683662, 32745.643596172078, 32645.397192036442, 32544.4824785399, 32442.895000286717, 32340.630272178507, 32237.683779216248, 32134.050976300903, 32029.727288032787, 31924.708108509556, 31818.988801122836, 31712.564698353533, 31605.43110156577, 31497.583280799427, 31389.016474561307, 31279.725889614932, 31169.70670076891, 31058.95405066392, 30947.463049558228, 30835.228775111827, 30722.246272169123, 30608.51055254013, 30494.01659478028, 30378.759343968697, 30262.733711485038, 30145.934574784817, 30028.356777173263, 29909.995127577633, 29790.84440031803, 29670.8993348767, 29550.15463566576, 29428.60497179341, 29306.244976828584, 29183.06924856399, 29059.072348777627, 28934.248802992694, 28808.59310023586, 28682.099692793978, 28554.762995969155, 28426.577387832167, 28297.537208974263, 28167.636762257305, 28036.870312562238, 27905.232086535867, 27772.716272335987, 27639.317019374776, 27505.02843806049, 27369.84459953744, 27233.759535424237, 27096.76723755028, 26958.861657690497, 26820.036707298314, 26680.28625723685, 26539.60413750831, 26397.98413698158, 26255.420003118004, 26111.905441695337, 25967.434116529854, 25821.999649196598, 25675.595618747793, 25528.215561429326, 25379.8529703954, 25230.50129542125, 25080.15394261394, 24928.804274121245, 24776.445607838603, 24623.071217114073, 24468.674330451384, 24313.24813121094, 24156.785757308895, 23999.280300914168, 23840.724808143477, 23681.112278754314, 23520.435665835892, 23358.687875498013, 23195.86176655788, 23031.950150224813, 22866.94578978286, 22700.841400271293, 22533.629648162983, 22365.303151040618, 22195.854477270772, 22025.27614567579, 21853.56062520351, 21680.700334594745, 21506.68764204859, 21331.514864885463, 21155.174269207913, 20977.65806955918, 20798.958428579455, 20619.06745665987, 20437.97721159415, 20255.67969822799, 20072.166868106055, 19887.430619116643, 19701.462795133968, 19514.25518565808, 19325.799525452345, 19136.087494178577, 18945.11071602965, 18752.860759359726, 18559.329136312004, 18364.507302443966, 18168.38665635014, 17970.958539282354, 17772.21423476745, 17572.14496822245, 17370.741906567146, 17167.99615783414, 16963.89877077625, 16758.440734471304, 16551.612977924324, 16343.406369667035, 16133.811717354696, 15922.819767360274, 15710.42120436589, 15496.606650951542, 15281.3666671811, 15064.691750185524, 14846.572333743308, 14626.998787858145, 14405.961418333745, 14183.450466345852, 13959.456108011374, 13733.968453954665, 13506.97754887091, 13278.473371086597, 13048.445832117055, 12816.884776221052, 12583.779979952405, 12349.121151708636, 12112.897931276575, 11875.099889374967, 11635.716527194014, 11394.737275931855, 11152.15149632795, 10907.94847819335, 10662.117439937854, 10414.647528093989, 10165.527816837828, 9914.747307506628, 9662.29492811322, 9408.15953285719, 9152.329901632784, 8894.79473953355, 8635.542676353656, 8374.562266085895, 8111.84198641635, 7847.370238215673, 7581.135345026992, 7313.125552550387, 7043.329028123937, 6771.733860201311, 6498.328057825867, 6223.099550101254, 5946.036185658477, 5667.125732119414, 5386.355875556758, 5103.714219950351, 4819.188286639901, 4532.7655137740485, 4244.433255755757, 3954.17878268401, 3661.989279791784, 3367.851846880277, 3071.75349774936, 2773.681159624237, 2473.6216725782797, 2171.5617889520163, 1867.488172768244, 1561.387399143247, 1253.2459536940833, 943.0502319419248, 630.7865387114188, 316.4410875260428]\n"
     ]
    }
   ],
   "source": [
    "# Calculate year-wise interest paid for principal amount 50 lakhs, interest rate 8%, and loan repayment tenure 15 years\n",
    "\n",
    "p=5000000\n",
    "r=8\n",
    "n=15\n",
    "\n",
    "yearwise_interest = calc_yearwise_interest(p, r, n, calc_emi(p, r, n))\n",
    "print(\"Year-wise interest paid for principal amount 50 lakhs, interest rate 8%, and loan repayment tenure 15 years:\", yearwise_interest)"
   ]
  },
  {
   "cell_type": "code",
   "execution_count": 9,
   "id": "8d793359",
   "metadata": {},
   "outputs": [],
   "source": [
    "# Function to calculate total interest paid\n",
    "\n",
    "def calc_interest(p, r, n, emi):\n",
    "  total_interest = 0\n",
    "  for i in range(n*12):\n",
    "    interest = p * r / (12 * 100)\n",
    "    total_interest += interest\n",
    "    p -= emi - interest\n",
    "  return total_interest"
   ]
  },
  {
   "cell_type": "code",
   "execution_count": 10,
   "id": "d8cf2756",
   "metadata": {},
   "outputs": [
    {
     "name": "stdout",
     "output_type": "stream",
     "text": [
      "Total cumulative interest paid for principal amount 50 lakhs, interest rate 8%, and loan repayment tenure 15 years: 3600868.76\n"
     ]
    }
   ],
   "source": [
    "# Calculate total cumulative interest paid for principal amount 50 lakhs, interest rate 8%, and loan repayment tenure 15 years\n",
    "\n",
    "p=5000000\n",
    "r=8\n",
    "n=15\n",
    "\n",
    "total_interest = calc_interest(p, r, n, calc_emi(p, r, n))\n",
    "print(f\"Total cumulative interest paid for principal amount 50 lakhs, interest rate 8%, and loan repayment tenure 15 years: {total_interest:.2f}\")"
   ]
  },
  {
   "cell_type": "markdown",
   "id": "b2072cef",
   "metadata": {},
   "source": [
    "---\n",
    "\n",
    "**Ans. Total cumulative interest paid for principal amount 50 lakhs, interest rate 8%, and loan repayment tenure 15 years:** 3600868.76\n",
    "\n",
    "---"
   ]
  },
  {
   "cell_type": "markdown",
   "id": "48c38fc5",
   "metadata": {},
   "source": [
    "**4.    For the Que 1., in how many months would you have paid atleast 50% of the Principal amount.**"
   ]
  },
  {
   "cell_type": "code",
   "execution_count": 11,
   "id": "b7d5bb10",
   "metadata": {},
   "outputs": [],
   "source": [
    "# Function to calculate months required to pay at least 50% of the principal\n",
    "\n",
    "def calc_months_50_principal(p, r, n, emi):\n",
    "  paid = 0\n",
    "  for m in range(n*12):\n",
    "    interest = p * r / (12 * 100)\n",
    "    paid += emi - interest\n",
    "    p -= emi - interest\n",
    "    if paid >= p/2:\n",
    "      return m + 1"
   ]
  },
  {
   "cell_type": "code",
   "execution_count": 12,
   "id": "631268b7",
   "metadata": {},
   "outputs": [
    {
     "name": "stdout",
     "output_type": "stream",
     "text": [
      "Months required to pay at least 50% of the principal for principal amount 50 lakhs, interest rate 8%, and loan repayment tenure 15 years: 86\n"
     ]
    }
   ],
   "source": [
    "# Calculate months required to pay at least 50% of the principal for principal amount 50 lakhs, interest rate 8%, and loan repayment tenure 15 years\n",
    "\n",
    "p=5000000\n",
    "r=8\n",
    "n=15\n",
    "\n",
    "months = calc_months_50_principal(p, r, n, calc_emi(p, r, n))\n",
    "print(\"Months required to pay at least 50% of the principal for principal amount 50 lakhs, interest rate 8%, and loan repayment tenure 15 years:\", months)"
   ]
  },
  {
   "cell_type": "markdown",
   "id": "72495235",
   "metadata": {},
   "source": [
    "---\n",
    "\n",
    "**Ans. Months required to pay at least 50% of the principal for principal amount 50 lakhs, interest rate 8%, and loan repayment tenure 15 years:** 86\n",
    "\n",
    "---"
   ]
  }
 ],
 "metadata": {
  "kernelspec": {
   "display_name": "Python 3 (ipykernel)",
   "language": "python",
   "name": "python3"
  },
  "language_info": {
   "codemirror_mode": {
    "name": "ipython",
    "version": 3
   },
   "file_extension": ".py",
   "mimetype": "text/x-python",
   "name": "python",
   "nbconvert_exporter": "python",
   "pygments_lexer": "ipython3",
   "version": "3.9.13"
  }
 },
 "nbformat": 4,
 "nbformat_minor": 5
}
